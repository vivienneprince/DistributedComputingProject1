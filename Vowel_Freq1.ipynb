{
  "nbformat": 4,
  "nbformat_minor": 0,
  "metadata": {
    "colab": {
      "name": "Vowel_Freq1.ipynb",
      "provenance": []
    },
    "kernelspec": {
      "name": "python3",
      "display_name": "Python 3"
    }
  },
  "cells": [
    {
      "cell_type": "code",
      "metadata": {
        "id": "JPsjhZfxOOn_"
      },
      "source": [
        ""
      ],
      "execution_count": null,
      "outputs": []
    },
    {
      "cell_type": "markdown",
      "metadata": {
        "id": "tLYaGwJBOPyw"
      },
      "source": [
        ""
      ]
    },
    {
      "cell_type": "code",
      "metadata": {
        "id": "XnfDQhhqORGF"
      },
      "source": [
        ""
      ],
      "execution_count": null,
      "outputs": []
    },
    {
      "cell_type": "code",
      "metadata": {
        "colab": {
          "base_uri": "https://localhost:8080/"
        },
        "id": "9rfxqGpx9yQ7",
        "outputId": "8ce6cc42-09f8-48d8-9e49-ff860e76aaa7"
      },
      "source": [
        "!pip install pyspark"
      ],
      "execution_count": null,
      "outputs": [
        {
          "output_type": "stream",
          "text": [
            "Collecting pyspark\n",
            "\u001b[?25l  Downloading https://files.pythonhosted.org/packages/45/b0/9d6860891ab14a39d4bddf80ba26ce51c2f9dc4805e5c6978ac0472c120a/pyspark-3.1.1.tar.gz (212.3MB)\n",
            "\u001b[K     |████████████████████████████████| 212.3MB 70kB/s \n",
            "\u001b[?25hCollecting py4j==0.10.9\n",
            "\u001b[?25l  Downloading https://files.pythonhosted.org/packages/9e/b6/6a4fb90cd235dc8e265a6a2067f2a2c99f0d91787f06aca4bcf7c23f3f80/py4j-0.10.9-py2.py3-none-any.whl (198kB)\n",
            "\u001b[K     |████████████████████████████████| 204kB 19.7MB/s \n",
            "\u001b[?25hBuilding wheels for collected packages: pyspark\n",
            "  Building wheel for pyspark (setup.py) ... \u001b[?25l\u001b[?25hdone\n",
            "  Created wheel for pyspark: filename=pyspark-3.1.1-py2.py3-none-any.whl size=212767604 sha256=51028873ae342615d5598864b876ff19b35d6eda1b65cfabb880c35b7a98d5d7\n",
            "  Stored in directory: /root/.cache/pip/wheels/0b/90/c0/01de724414ef122bd05f056541fb6a0ecf47c7ca655f8b3c0f\n",
            "Successfully built pyspark\n",
            "Installing collected packages: py4j, pyspark\n",
            "  Found existing installation: py4j 0.10.9.2\n",
            "    Uninstalling py4j-0.10.9.2:\n",
            "      Successfully uninstalled py4j-0.10.9.2\n",
            "Successfully installed py4j-0.10.9 pyspark-3.1.1\n"
          ],
          "name": "stdout"
        }
      ]
    },
    {
      "cell_type": "code",
      "metadata": {
        "id": "drsR65uCFiZi"
      },
      "source": [
        "# Load the Drive helper and mount\n",
        "from google.colab import drive\n",
        "\n",
        "# This will prompt for authorization.\n",
        "drive.mount('/content/drive')\n",
        "\n"
      ],
      "execution_count": null,
      "outputs": []
    },
    {
      "cell_type": "code",
      "metadata": {
        "id": "8Zzq21TRE1SP"
      },
      "source": [
        "#!ls \"/content/drive/My Drive/Horseshoe_Notebooks_Project1/sherlock.txt\"\n",
        "sherlock = open(\"/content/drive/My Drive/Horseshoe_Notebooks_Project1/sherlock.txt\", \"r\")\n",
        "\n"
      ],
      "execution_count": null,
      "outputs": []
    },
    {
      "cell_type": "code",
      "metadata": {
        "colab": {
          "base_uri": "https://localhost:8080/"
        },
        "id": "06e10zILI4P6",
        "outputId": "6bafb32f-891e-4d38-c386-4d6a5da51e84"
      },
      "source": [
        "import pyspark\n",
        "from pyspark.sql import SparkSession\n",
        "sc.stop()\n",
        "sc = pyspark.SparkContext(\"local[*]\", \"temp\")\n",
        "spark = SparkSession.builder.master(\"local[*]\").appName(\"temp\").getOrCreate()\n",
        "rdd = sc.textFile(\"/content/drive/My Drive/Horseshoe_Notebooks_Project1/sherlock.txt\")\n",
        "\n",
        "print(\"RDD Works\")\n",
        "print(str(rdd.count()))\n",
        "\n",
        "df = spark.read.text(\"/content/drive/My Drive/Horseshoe_Notebooks_Project1/sherlock.txt\")\n",
        "print(\"DF Works\")\n",
        "df.show(4)\n"
      ],
      "execution_count": null,
      "outputs": [
        {
          "output_type": "stream",
          "text": [
            "RDD Works\n",
            "12310\n",
            "DF Works\n",
            "+--------------------+\n",
            "|               value|\n",
            "+--------------------+\n",
            "|                    |\n",
            "|Project Gutenberg...|\n",
            "|                    |\n",
            "|This eBook is for...|\n",
            "+--------------------+\n",
            "only showing top 4 rows\n",
            "\n"
          ],
          "name": "stdout"
        }
      ]
    },
    {
      "cell_type": "code",
      "metadata": {
        "id": "6PYG9KEyJOJE"
      },
      "source": [
        ""
      ],
      "execution_count": null,
      "outputs": []
    }
  ]
}