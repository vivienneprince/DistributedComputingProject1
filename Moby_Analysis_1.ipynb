{
 "cells": [
  {
   "cell_type": "code",
   "execution_count": 3,
   "metadata": {},
   "outputs": [],
   "source": [
    "import matplotlib.pyplot as plt # a module for plotting histograms\n",
    "import os                       # a module for calculating the number of bytes in file\n",
    "import re                       # a module for use of RegEx"
   ]
  },
  {
   "cell_type": "code",
   "execution_count": 4,
   "metadata": {},
   "outputs": [
    {
     "name": "stdout",
     "output_type": "stream",
     "text": [
      "moby.txt\n"
     ]
    },
    {
     "data": {
      "text/plain": [
       "int"
      ]
     },
     "execution_count": 4,
     "metadata": {},
     "output_type": "execute_result"
    }
   ],
   "source": [
    "#open the file and print out its name\n",
    "filename = \"moby.txt\"\n",
    "moby_file = open(filename,  encoding=\"utf8\")\n",
    "print(moby_file.name)\n",
    "\n",
    "#calculate how many bytes are in Moby Dick\n",
    "bytesInBook = os.path.getsize(filename)\n",
    "type(bytesInBook)\n"
   ]
  },
  {
   "cell_type": "code",
   "execution_count": 5,
   "metadata": {},
   "outputs": [],
   "source": [
    "#read the file\n",
    "entireBook = moby_file.read(bytesInBook)\n",
    "type(entireBook)\n",
    "\n",
    "#parse the file and save all instances of lower case vowels\n",
    "lowVowels = re.findall(\"[a,e,i,o,u]\", entireBook)\n",
    "\n",
    "#define what constitutes a lower case vowel\n",
    "typesOfVowels = ['a','e','i','o','u']\n",
    "\n",
    "\n",
    "\n",
    "\n",
    "\n",
    "\n",
    "\n"
   ]
  },
  {
   "cell_type": "code",
   "execution_count": 7,
   "metadata": {},
   "outputs": [
    {
     "data": {
      "text/plain": [
       "[74365, 114462, 61295, 67611, 26157]"
      ]
     },
     "execution_count": 7,
     "metadata": {},
     "output_type": "execute_result"
    }
   ],
   "source": [
    "#calculate the frequency of each vowel in the entireBook\n",
    "freqOfLowerVowels = []\n",
    "freqOfLowerVowels.append(lowVowels.count('a'))\n",
    "freqOfLowerVowels.append(lowVowels.count('e'))\n",
    "freqOfLowerVowels.append(lowVowels.count('i'))\n",
    "freqOfLowerVowels.append(lowVowels.count('o'))\n",
    "freqOfLowerVowels.append(lowVowels.count('u'))\n",
    "\n",
    "\n",
    "\n",
    "freqOfLowerVowels"
   ]
  },
  {
   "cell_type": "code",
   "execution_count": 9,
   "metadata": {},
   "outputs": [
    {
     "data": {
      "text/plain": [
       "Text(0, 0.5, 'Frequency\\n')"
      ]
     },
     "execution_count": 9,
     "metadata": {},
     "output_type": "execute_result"
    },
    {
     "data": {
      "image/png": "[encoded data removed]",
      "text/plain": [
       "<Figure size 432x288 with 1 Axes>"
      ]
     },
     "metadata": {
      "needs_background": "light"
     },
     "output_type": "display_data"
    }
   ],
   "source": [
    "#make a bar graph of all the frequencies of lower case vowels in Moby Dick\n",
    "colorsOfBars = ['Light Slate Blue', 'Light Aquamarine', 'Forest Green', \n",
    "                'Tea Green', 'Mango Orange']\n",
    "\n",
    "vowelColors = ['#736AFF','#C6DEFF','#93FFE8','#7DFDFE','#5BFE6E']\n",
    "\n",
    "plt.bar(typesOfVowels,freqOfLowerVowels, color = vowelColors)\n",
    "plt.title('Relative Frequencies of Lower-Case Vowels in Moby Dick\\n')\n",
    "plt.xlabel('\\nVowels')\n",
    "plt.ylabel('Frequency\\n')\n"
   ]
  },
  {
   "cell_type": "code",
   "execution_count": 10,
   "metadata": {},
   "outputs": [
    {
     "data": {
      "text/plain": [
       "[2106, 518, 3090, 520, 94]"
      ]
     },
     "execution_count": 10,
     "metadata": {},
     "output_type": "execute_result"
    }
   ],
   "source": [
    "typesUpperVowels = ['A', 'E', 'I', 'O', 'U'] #what constitutes an upper vowel\n",
    "\n",
    "\n",
    "freqOfUpVowels = []     # a list to store all the instances of upper vowels\n",
    "\n",
    "\n",
    "\n",
    "for i in range(len(typesUpperVowels)):\n",
    "    numVow = re.findall(\"[%s]\"%(typesUpperVowels[i]), entireBook)\n",
    "    freqOfUpVowels.append(len(numVow))\n",
    "    \n",
    "freqOfUpVowels"
   ]
  },
  {
   "cell_type": "code",
   "execution_count": 12,
   "metadata": {},
   "outputs": [
    {
     "data": {
      "text/plain": [
       "Text(0, 0.5, 'Frequency\\n')"
      ]
     },
     "execution_count": 12,
     "metadata": {},
     "output_type": "execute_result"
    },
    {
     "data": {
      "image/png": "[encoded data removed]",
      "text/plain": [
       "<Figure size 432x288 with 1 Axes>"
      ]
     },
     "metadata": {
      "needs_background": "light"
     },
     "output_type": "display_data"
    }
   ],
   "source": [
    "# plot the bar graph for moby dick upper vowels\n",
    "\n",
    "plt.bar(typesUpperVowels,freqOfUpVowels, color = vowelColors)\n",
    "plt.title('Relative Frequencies of Upper-Case Vowels in Moby Dick\\n')\n",
    "plt.xlabel('\\nVowels')\n",
    "plt.ylabel('Frequency\\n')"
   ]
  },
  {
   "cell_type": "code",
   "execution_count": 8,
   "metadata": {},
   "outputs": [
    {
     "data": {
      "text/plain": [
       "[515]"
      ]
     },
     "execution_count": 8,
     "metadata": {},
     "output_type": "execute_result"
    }
   ],
   "source": [
    "chars = [\"Captain Ahab\", \"Ismael\"]\n",
    "frequencyOfCharacters = []\n",
    "\n",
    "numAhab = re.findall((\"AHAB*|Ahab*\" ), entireBook)\n",
    "frequencyOfCharacters.append(len(numAhab))\n",
    "frequencyOfCharacters\n"
   ]
  },
  {
   "cell_type": "code",
   "execution_count": 9,
   "metadata": {},
   "outputs": [
    {
     "data": {
      "text/plain": [
       "[515, 20]"
      ]
     },
     "execution_count": 9,
     "metadata": {},
     "output_type": "execute_result"
    }
   ],
   "source": [
    "numIsmael = re.findall((\"ISHMAEL*|Ishmael*\"), entireBook)\n",
    "frequencyOfCharacters.append(len(numIsmael))\n",
    "frequencyOfCharacters\n"
   ]
  },
  {
   "cell_type": "code",
   "execution_count": 10,
   "metadata": {},
   "outputs": [
    {
     "data": {
      "text/plain": [
       "[515, 20, 9]"
      ]
     },
     "execution_count": 10,
     "metadata": {},
     "output_type": "execute_result"
    }
   ],
   "source": [
    "numFatherMaple = re.findall((\"FATHER MAPPLE*|Father Mapple*\"), entireBook)\n",
    "frequencyOfCharacters.append(len(numFatherMaple))\n",
    "frequencyOfCharacters\n"
   ]
  },
  {
   "cell_type": "code",
   "execution_count": null,
   "metadata": {},
   "outputs": [],
   "source": []
  },
  {
   "cell_type": "code",
   "execution_count": null,
   "metadata": {},
   "outputs": [],
   "source": []
  }
 ],
 "metadata": {
  "kernelspec": {
   "display_name": "Python 3",
   "language": "python",
   "name": "python3"
  },
  "language_info": {
   "codemirror_mode": {
    "name": "ipython",
    "version": 3
   },
   "file_extension": ".py",
   "mimetype": "text/x-python",
   "name": "python",
   "nbconvert_exporter": "python",
   "pygments_lexer": "ipython3",
   "version": "3.8.5"
  }
 },
 "nbformat": 4,
 "nbformat_minor": 4
}
